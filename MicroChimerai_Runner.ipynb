{
 "cells": [
  {
   "cell_type": "code",
   "execution_count": 1,
   "metadata": {},
   "outputs": [],
   "source": [
    "from microprediction import new_key, MicroCrawler\n",
    "import numpy as np\n",
    "\n",
    "import MicroChimerai"
   ]
  },
  {
   "cell_type": "code",
   "execution_count": 2,
   "metadata": {},
   "outputs": [],
   "source": [
    "write_key = new_key(difficulty=8)"
   ]
  },
  {
   "cell_type": "code",
   "execution_count": 3,
   "metadata": {},
   "outputs": [],
   "source": [
    "boi = MicroChimerai.MicroChimerai(write_key=write_key)"
   ]
  },
  {
   "cell_type": "code",
   "execution_count": 4,
   "metadata": {},
   "outputs": [
    {
     "name": "stdout",
     "output_type": "stream",
     "text": [
      " \n",
      "x:  0    0.788247\n",
      "Name: 0, dtype: float64\n",
      "y:  0    0.788247\n",
      "Name: 0, dtype: float64\n",
      " \n",
      "gottem\n",
      " \n",
      "x:  0    0.788247\n",
      "Name: 0, dtype: float64\n",
      "y:  0    0.069096\n",
      "Name: 1, dtype: float64\n",
      " \n",
      "gottem\n"
     ]
    },
    {
     "ename": "KeyError",
     "evalue": "1",
     "output_type": "error",
     "traceback": [
      "\u001b[1;31m---------------------------------------------------------------------------\u001b[0m",
      "\u001b[1;31mValueError\u001b[0m                                Traceback (most recent call last)",
      "File \u001b[1;32mc:\\Users\\rmaxz\\Desktop\\CSProjects\\Chi\\venv\\lib\\site-packages\\pandas\\core\\indexes\\range.py:391\u001b[0m, in \u001b[0;36mRangeIndex.get_loc\u001b[1;34m(self, key, method, tolerance)\u001b[0m\n\u001b[0;32m    390\u001b[0m \u001b[39mtry\u001b[39;00m:\n\u001b[1;32m--> 391\u001b[0m     \u001b[39mreturn\u001b[39;00m \u001b[39mself\u001b[39;49m\u001b[39m.\u001b[39;49m_range\u001b[39m.\u001b[39;49mindex(new_key)\n\u001b[0;32m    392\u001b[0m \u001b[39mexcept\u001b[39;00m \u001b[39mValueError\u001b[39;00m \u001b[39mas\u001b[39;00m err:\n",
      "\u001b[1;31mValueError\u001b[0m: 1 is not in range",
      "\nThe above exception was the direct cause of the following exception:\n",
      "\u001b[1;31mKeyError\u001b[0m                                  Traceback (most recent call last)",
      "Cell \u001b[1;32mIn[4], line 3\u001b[0m\n\u001b[0;32m      1\u001b[0m lagged_values \u001b[39m=\u001b[39m np\u001b[39m.\u001b[39mrandom\u001b[39m.\u001b[39mrand(\u001b[39m225\u001b[39m)\n\u001b[0;32m      2\u001b[0m \u001b[39mfor\u001b[39;00m i \u001b[39min\u001b[39;00m \u001b[39mrange\u001b[39m(\u001b[39m1000\u001b[39m):\n\u001b[1;32m----> 3\u001b[0m     boi\u001b[39m.\u001b[39;49msample(lagged_values)\n\u001b[0;32m      4\u001b[0m     lagged_values \u001b[39m=\u001b[39m np\u001b[39m.\u001b[39mrandom\u001b[39m.\u001b[39mrand(\u001b[39m225\u001b[39m)\n",
      "File \u001b[1;32mc:\\Users\\rmaxz\\Desktop\\CSProjects\\Chi\\MicroChimerai.py:33\u001b[0m, in \u001b[0;36mMicroChimerai.sample\u001b[1;34m(self, lagged_values, lagged_times, name, delay, **ignored)\u001b[0m\n\u001b[0;32m     30\u001b[0m queued_connections_row, queued_connections_col \u001b[39m=\u001b[39m np\u001b[39m.\u001b[39mwhere(G\u001b[39m<\u001b[39mr)\n\u001b[0;32m     32\u001b[0m \u001b[39m# Given all the connections between agents we need to use, we create a prediction for the next timestep.\u001b[39;00m\n\u001b[1;32m---> 33\u001b[0m prediction \u001b[39m=\u001b[39m \u001b[39mself\u001b[39;49m\u001b[39m.\u001b[39;49mcreate_prediction(queued_connections_row, queued_connections_col, H)\n\u001b[0;32m     35\u001b[0m \u001b[39m# We update the previous prediction difference.\u001b[39;00m\n\u001b[0;32m     36\u001b[0m \u001b[39mself\u001b[39m\u001b[39m.\u001b[39mprev_pred_diff \u001b[39m=\u001b[39m avg_diff\n",
      "File \u001b[1;32mc:\\Users\\rmaxz\\Desktop\\CSProjects\\Chi\\MicroChimerai.py:59\u001b[0m, in \u001b[0;36mMicroChimerai.create_prediction\u001b[1;34m(self, queued_rows, queued_cols, H_matrix)\u001b[0m\n\u001b[0;32m     57\u001b[0m     x_n, y_n \u001b[39m=\u001b[39m e_conv(\u001b[39mself\u001b[39m\u001b[39m.\u001b[39mAV\u001b[39m.\u001b[39miloc[i], \u001b[39mself\u001b[39m\u001b[39m.\u001b[39mAV\u001b[39m.\u001b[39miloc[j])\n\u001b[0;32m     58\u001b[0m     H_matrix[i] \u001b[39m*\u001b[39m\u001b[39m=\u001b[39m x_n\n\u001b[1;32m---> 59\u001b[0m     H_matrix[j] \u001b[39m*\u001b[39m\u001b[39m=\u001b[39m y_n\n\u001b[0;32m     61\u001b[0m \u001b[39mself\u001b[39m\u001b[39m.\u001b[39mAV \u001b[39m=\u001b[39m \u001b[39mself\u001b[39m\u001b[39m.\u001b[39mAV\u001b[39m.\u001b[39mmul(H_matrix)\n\u001b[0;32m     62\u001b[0m curr_prediction \u001b[39m=\u001b[39m \u001b[39mself\u001b[39m\u001b[39m.\u001b[39mAV[\u001b[39m0\u001b[39m]\u001b[39m.\u001b[39mvalues[\u001b[39m0\u001b[39m]\n",
      "File \u001b[1;32mc:\\Users\\rmaxz\\Desktop\\CSProjects\\Chi\\venv\\lib\\site-packages\\pandas\\core\\frame.py:3807\u001b[0m, in \u001b[0;36mDataFrame.__getitem__\u001b[1;34m(self, key)\u001b[0m\n\u001b[0;32m   3805\u001b[0m \u001b[39mif\u001b[39;00m \u001b[39mself\u001b[39m\u001b[39m.\u001b[39mcolumns\u001b[39m.\u001b[39mnlevels \u001b[39m>\u001b[39m \u001b[39m1\u001b[39m:\n\u001b[0;32m   3806\u001b[0m     \u001b[39mreturn\u001b[39;00m \u001b[39mself\u001b[39m\u001b[39m.\u001b[39m_getitem_multilevel(key)\n\u001b[1;32m-> 3807\u001b[0m indexer \u001b[39m=\u001b[39m \u001b[39mself\u001b[39;49m\u001b[39m.\u001b[39;49mcolumns\u001b[39m.\u001b[39;49mget_loc(key)\n\u001b[0;32m   3808\u001b[0m \u001b[39mif\u001b[39;00m is_integer(indexer):\n\u001b[0;32m   3809\u001b[0m     indexer \u001b[39m=\u001b[39m [indexer]\n",
      "File \u001b[1;32mc:\\Users\\rmaxz\\Desktop\\CSProjects\\Chi\\venv\\lib\\site-packages\\pandas\\core\\indexes\\range.py:393\u001b[0m, in \u001b[0;36mRangeIndex.get_loc\u001b[1;34m(self, key, method, tolerance)\u001b[0m\n\u001b[0;32m    391\u001b[0m         \u001b[39mreturn\u001b[39;00m \u001b[39mself\u001b[39m\u001b[39m.\u001b[39m_range\u001b[39m.\u001b[39mindex(new_key)\n\u001b[0;32m    392\u001b[0m     \u001b[39mexcept\u001b[39;00m \u001b[39mValueError\u001b[39;00m \u001b[39mas\u001b[39;00m err:\n\u001b[1;32m--> 393\u001b[0m         \u001b[39mraise\u001b[39;00m \u001b[39mKeyError\u001b[39;00m(key) \u001b[39mfrom\u001b[39;00m \u001b[39merr\u001b[39;00m\n\u001b[0;32m    394\u001b[0m \u001b[39mself\u001b[39m\u001b[39m.\u001b[39m_check_indexing_error(key)\n\u001b[0;32m    395\u001b[0m \u001b[39mraise\u001b[39;00m \u001b[39mKeyError\u001b[39;00m(key)\n",
      "\u001b[1;31mKeyError\u001b[0m: 1"
     ]
    }
   ],
   "source": [
    "lagged_values = np.random.rand(225)\n",
    "for i in range(1000):\n",
    "    boi.sample(lagged_values)\n",
    "    lagged_values = np.random.rand(225)"
   ]
  },
  {
   "cell_type": "code",
   "execution_count": null,
   "metadata": {},
   "outputs": [],
   "source": []
  }
 ],
 "metadata": {
  "kernelspec": {
   "display_name": "venv",
   "language": "python",
   "name": "python3"
  },
  "language_info": {
   "codemirror_mode": {
    "name": "ipython",
    "version": 3
   },
   "file_extension": ".py",
   "mimetype": "text/x-python",
   "name": "python",
   "nbconvert_exporter": "python",
   "pygments_lexer": "ipython3",
   "version": "3.9.6"
  },
  "orig_nbformat": 4
 },
 "nbformat": 4,
 "nbformat_minor": 2
}
